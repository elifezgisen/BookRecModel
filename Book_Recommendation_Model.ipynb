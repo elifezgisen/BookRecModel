{
  "cells": [
    {
      "cell_type": "markdown",
      "metadata": {
        "id": "view-in-github",
        "colab_type": "text"
      },
      "source": [
        "<a href=\"https://colab.research.google.com/github/elifezgisen/book-recommendation/blob/main/Book_Recommendation_Model.ipynb\" target=\"_parent\"><img src=\"https://colab.research.google.com/assets/colab-badge.svg\" alt=\"Open In Colab\"/></a>"
      ]
    },
    {
      "cell_type": "markdown",
      "metadata": {
        "id": "s-YdVIaei6IU"
      },
      "source": [
        "# **Book Recommendation System Model**"
      ]
    },
    {
      "cell_type": "markdown",
      "metadata": {
        "id": "VY8CXdTVj9Tr"
      },
      "source": [
        "### *Developing a recommendation system model for users, using data from book reviews.*\n",
        "\n",
        "\n"
      ]
    },
    {
      "cell_type": "markdown",
      "metadata": {
        "id": "w9sgwrT3IiOO"
      },
      "source": [
        "## **Libraries:**"
      ]
    },
    {
      "cell_type": "code",
      "execution_count": 196,
      "metadata": {
        "id": "dZR-Vsv5E_k8"
      },
      "outputs": [],
      "source": [
        "#Import of required libraries.\n",
        "\n",
        "import numpy as np\n",
        "import pandas as pd\n",
        "import tensorflow as tf\n",
        "import matplotlib.pyplot as plt \n",
        "import seaborn as sns\n",
        "\n",
        "from sklearn.neural_network import MLPRegressor\n",
        "from sklearn.model_selection import train_test_split\n",
        "from sklearn.preprocessing import LabelEncoder, MinMaxScaler\n",
        "from sklearn.metrics import mean_squared_error\n",
        "\n",
        "from keras.layers import Embedding, Flatten, Input, Dense, Concatenate, Dropout, BatchNormalization\n",
        "from keras.callbacks import EarlyStopping\n",
        "from keras.models import Model\n",
        "from keras.optimizers import Adam\n",
        "from keras.utils import plot_model\n",
        "from keras.losses import binary_crossentropy"
      ]
    },
    {
      "cell_type": "markdown",
      "metadata": {
        "id": "kjYynoJVIqDL"
      },
      "source": [
        "## **Data Upload:**"
      ]
    },
    {
      "cell_type": "code",
      "execution_count": 197,
      "metadata": {
        "id": "9qFOehxRDp0A"
      },
      "outputs": [],
      "source": [
        "#Importing the dataset.\n",
        "\n",
        "books = pd.read_csv('books.csv')\n",
        "ratings = pd.read_csv('ratings.csv')"
      ]
    },
    {
      "cell_type": "markdown",
      "metadata": {
        "id": "QmlS2JKWIszN"
      },
      "source": [
        "## **Data Preprocessing:**"
      ]
    },
    {
      "cell_type": "code",
      "execution_count": 198,
      "metadata": {
        "colab": {
          "base_uri": "https://localhost:8080/",
          "height": 682
        },
        "id": "U7E1573HD81P",
        "outputId": "85d63953-e619-4911-bd30-2033e730d15f"
      },
      "outputs": [
        {
          "output_type": "execute_result",
          "data": {
            "text/plain": [
              "   id   book_id  best_book_id   work_id  books_count        isbn  \\\n",
              "0   1   2767052       2767052   2792775          272   439023483   \n",
              "1   2         3             3   4640799          491   439554934   \n",
              "2   3     41865         41865   3212258          226   316015849   \n",
              "3   4      2657          2657   3275794          487    61120081   \n",
              "4   5      4671          4671    245494         1356   743273567   \n",
              "5   6  11870085      11870085  16827462          226   525478817   \n",
              "6   7      5907          5907   1540236          969   618260307   \n",
              "7   8      5107          5107   3036731          360   316769177   \n",
              "8   9       960           960   3338963          311  1416524797   \n",
              "9  10      1885          1885   3060926         3455   679783261   \n",
              "\n",
              "         isbn13                      authors  original_publication_year  \\\n",
              "0  9.780439e+12              Suzanne Collins                     2008.0   \n",
              "1  9.780440e+12  J.K. Rowling, Mary GrandPré                     1997.0   \n",
              "2  9.780316e+12              Stephenie Meyer                     2005.0   \n",
              "3  9.780061e+12                   Harper Lee                     1960.0   \n",
              "4  9.780743e+12          F. Scott Fitzgerald                     1925.0   \n",
              "5  9.780525e+12                   John Green                     2012.0   \n",
              "6  9.780618e+12               J.R.R. Tolkien                     1937.0   \n",
              "7  9.780317e+12                J.D. Salinger                     1951.0   \n",
              "8  9.781417e+12                    Dan Brown                     2000.0   \n",
              "9  9.780680e+12                  Jane Austen                     1813.0   \n",
              "\n",
              "                             original_title  ... ratings_count  \\\n",
              "0                          The Hunger Games  ...       4780653   \n",
              "1  Harry Potter and the Philosopher's Stone  ...       4602479   \n",
              "2                                  Twilight  ...       3866839   \n",
              "3                     To Kill a Mockingbird  ...       3198671   \n",
              "4                          The Great Gatsby  ...       2683664   \n",
              "5                    The Fault in Our Stars  ...       2346404   \n",
              "6        The Hobbit or There and Back Again  ...       2071616   \n",
              "7                    The Catcher in the Rye  ...       2044241   \n",
              "8                          Angels & Demons   ...       2001311   \n",
              "9                       Pride and Prejudice  ...       2035490   \n",
              "\n",
              "  work_ratings_count  work_text_reviews_count  ratings_1  ratings_2  \\\n",
              "0            4942365                   155254      66715     127936   \n",
              "1            4800065                    75867      75504     101676   \n",
              "2            3916824                    95009     456191     436802   \n",
              "3            3340896                    72586      60427     117415   \n",
              "4            2773745                    51992      86236     197621   \n",
              "5            2478609                   140739      47994      92723   \n",
              "6            2196809                    37653      46023      76784   \n",
              "7            2120637                    44920     109383     185520   \n",
              "8            2078754                    25112      77841     145740   \n",
              "9            2191465                    49152      54700      86485   \n",
              "\n",
              "   ratings_3  ratings_4  ratings_5  \\\n",
              "0     560092    1481305    2706317   \n",
              "1     455024    1156318    3011543   \n",
              "2     793319     875073    1355439   \n",
              "3     446835    1001952    1714267   \n",
              "4     606158     936012     947718   \n",
              "5     327550     698471    1311871   \n",
              "6     288649     665635    1119718   \n",
              "7     455042     661516     709176   \n",
              "8     458429     716569     680175   \n",
              "9     284852     609755    1155673   \n",
              "\n",
              "                                           image_url  \\\n",
              "0  https://images.gr-assets.com/books/1447303603m...   \n",
              "1  https://images.gr-assets.com/books/1474154022m...   \n",
              "2  https://images.gr-assets.com/books/1361039443m...   \n",
              "3  https://images.gr-assets.com/books/1361975680m...   \n",
              "4  https://images.gr-assets.com/books/1490528560m...   \n",
              "5  https://images.gr-assets.com/books/1360206420m...   \n",
              "6  https://images.gr-assets.com/books/1372847500m...   \n",
              "7  https://images.gr-assets.com/books/1398034300m...   \n",
              "8  https://images.gr-assets.com/books/1303390735m...   \n",
              "9  https://images.gr-assets.com/books/1320399351m...   \n",
              "\n",
              "                                     small_image_url  \n",
              "0  https://images.gr-assets.com/books/1447303603s...  \n",
              "1  https://images.gr-assets.com/books/1474154022s...  \n",
              "2  https://images.gr-assets.com/books/1361039443s...  \n",
              "3  https://images.gr-assets.com/books/1361975680s...  \n",
              "4  https://images.gr-assets.com/books/1490528560s...  \n",
              "5  https://images.gr-assets.com/books/1360206420s...  \n",
              "6  https://images.gr-assets.com/books/1372847500s...  \n",
              "7  https://images.gr-assets.com/books/1398034300s...  \n",
              "8  https://images.gr-assets.com/books/1303390735s...  \n",
              "9  https://images.gr-assets.com/books/1320399351s...  \n",
              "\n",
              "[10 rows x 23 columns]"
            ],
            "text/html": [
              "\n",
              "  <div id=\"df-67f46622-1d0f-48ef-8911-cd507ae174bc\">\n",
              "    <div class=\"colab-df-container\">\n",
              "      <div>\n",
              "<style scoped>\n",
              "    .dataframe tbody tr th:only-of-type {\n",
              "        vertical-align: middle;\n",
              "    }\n",
              "\n",
              "    .dataframe tbody tr th {\n",
              "        vertical-align: top;\n",
              "    }\n",
              "\n",
              "    .dataframe thead th {\n",
              "        text-align: right;\n",
              "    }\n",
              "</style>\n",
              "<table border=\"1\" class=\"dataframe\">\n",
              "  <thead>\n",
              "    <tr style=\"text-align: right;\">\n",
              "      <th></th>\n",
              "      <th>id</th>\n",
              "      <th>book_id</th>\n",
              "      <th>best_book_id</th>\n",
              "      <th>work_id</th>\n",
              "      <th>books_count</th>\n",
              "      <th>isbn</th>\n",
              "      <th>isbn13</th>\n",
              "      <th>authors</th>\n",
              "      <th>original_publication_year</th>\n",
              "      <th>original_title</th>\n",
              "      <th>...</th>\n",
              "      <th>ratings_count</th>\n",
              "      <th>work_ratings_count</th>\n",
              "      <th>work_text_reviews_count</th>\n",
              "      <th>ratings_1</th>\n",
              "      <th>ratings_2</th>\n",
              "      <th>ratings_3</th>\n",
              "      <th>ratings_4</th>\n",
              "      <th>ratings_5</th>\n",
              "      <th>image_url</th>\n",
              "      <th>small_image_url</th>\n",
              "    </tr>\n",
              "  </thead>\n",
              "  <tbody>\n",
              "    <tr>\n",
              "      <th>0</th>\n",
              "      <td>1</td>\n",
              "      <td>2767052</td>\n",
              "      <td>2767052</td>\n",
              "      <td>2792775</td>\n",
              "      <td>272</td>\n",
              "      <td>439023483</td>\n",
              "      <td>9.780439e+12</td>\n",
              "      <td>Suzanne Collins</td>\n",
              "      <td>2008.0</td>\n",
              "      <td>The Hunger Games</td>\n",
              "      <td>...</td>\n",
              "      <td>4780653</td>\n",
              "      <td>4942365</td>\n",
              "      <td>155254</td>\n",
              "      <td>66715</td>\n",
              "      <td>127936</td>\n",
              "      <td>560092</td>\n",
              "      <td>1481305</td>\n",
              "      <td>2706317</td>\n",
              "      <td>https://images.gr-assets.com/books/1447303603m...</td>\n",
              "      <td>https://images.gr-assets.com/books/1447303603s...</td>\n",
              "    </tr>\n",
              "    <tr>\n",
              "      <th>1</th>\n",
              "      <td>2</td>\n",
              "      <td>3</td>\n",
              "      <td>3</td>\n",
              "      <td>4640799</td>\n",
              "      <td>491</td>\n",
              "      <td>439554934</td>\n",
              "      <td>9.780440e+12</td>\n",
              "      <td>J.K. Rowling, Mary GrandPré</td>\n",
              "      <td>1997.0</td>\n",
              "      <td>Harry Potter and the Philosopher's Stone</td>\n",
              "      <td>...</td>\n",
              "      <td>4602479</td>\n",
              "      <td>4800065</td>\n",
              "      <td>75867</td>\n",
              "      <td>75504</td>\n",
              "      <td>101676</td>\n",
              "      <td>455024</td>\n",
              "      <td>1156318</td>\n",
              "      <td>3011543</td>\n",
              "      <td>https://images.gr-assets.com/books/1474154022m...</td>\n",
              "      <td>https://images.gr-assets.com/books/1474154022s...</td>\n",
              "    </tr>\n",
              "    <tr>\n",
              "      <th>2</th>\n",
              "      <td>3</td>\n",
              "      <td>41865</td>\n",
              "      <td>41865</td>\n",
              "      <td>3212258</td>\n",
              "      <td>226</td>\n",
              "      <td>316015849</td>\n",
              "      <td>9.780316e+12</td>\n",
              "      <td>Stephenie Meyer</td>\n",
              "      <td>2005.0</td>\n",
              "      <td>Twilight</td>\n",
              "      <td>...</td>\n",
              "      <td>3866839</td>\n",
              "      <td>3916824</td>\n",
              "      <td>95009</td>\n",
              "      <td>456191</td>\n",
              "      <td>436802</td>\n",
              "      <td>793319</td>\n",
              "      <td>875073</td>\n",
              "      <td>1355439</td>\n",
              "      <td>https://images.gr-assets.com/books/1361039443m...</td>\n",
              "      <td>https://images.gr-assets.com/books/1361039443s...</td>\n",
              "    </tr>\n",
              "    <tr>\n",
              "      <th>3</th>\n",
              "      <td>4</td>\n",
              "      <td>2657</td>\n",
              "      <td>2657</td>\n",
              "      <td>3275794</td>\n",
              "      <td>487</td>\n",
              "      <td>61120081</td>\n",
              "      <td>9.780061e+12</td>\n",
              "      <td>Harper Lee</td>\n",
              "      <td>1960.0</td>\n",
              "      <td>To Kill a Mockingbird</td>\n",
              "      <td>...</td>\n",
              "      <td>3198671</td>\n",
              "      <td>3340896</td>\n",
              "      <td>72586</td>\n",
              "      <td>60427</td>\n",
              "      <td>117415</td>\n",
              "      <td>446835</td>\n",
              "      <td>1001952</td>\n",
              "      <td>1714267</td>\n",
              "      <td>https://images.gr-assets.com/books/1361975680m...</td>\n",
              "      <td>https://images.gr-assets.com/books/1361975680s...</td>\n",
              "    </tr>\n",
              "    <tr>\n",
              "      <th>4</th>\n",
              "      <td>5</td>\n",
              "      <td>4671</td>\n",
              "      <td>4671</td>\n",
              "      <td>245494</td>\n",
              "      <td>1356</td>\n",
              "      <td>743273567</td>\n",
              "      <td>9.780743e+12</td>\n",
              "      <td>F. Scott Fitzgerald</td>\n",
              "      <td>1925.0</td>\n",
              "      <td>The Great Gatsby</td>\n",
              "      <td>...</td>\n",
              "      <td>2683664</td>\n",
              "      <td>2773745</td>\n",
              "      <td>51992</td>\n",
              "      <td>86236</td>\n",
              "      <td>197621</td>\n",
              "      <td>606158</td>\n",
              "      <td>936012</td>\n",
              "      <td>947718</td>\n",
              "      <td>https://images.gr-assets.com/books/1490528560m...</td>\n",
              "      <td>https://images.gr-assets.com/books/1490528560s...</td>\n",
              "    </tr>\n",
              "    <tr>\n",
              "      <th>5</th>\n",
              "      <td>6</td>\n",
              "      <td>11870085</td>\n",
              "      <td>11870085</td>\n",
              "      <td>16827462</td>\n",
              "      <td>226</td>\n",
              "      <td>525478817</td>\n",
              "      <td>9.780525e+12</td>\n",
              "      <td>John Green</td>\n",
              "      <td>2012.0</td>\n",
              "      <td>The Fault in Our Stars</td>\n",
              "      <td>...</td>\n",
              "      <td>2346404</td>\n",
              "      <td>2478609</td>\n",
              "      <td>140739</td>\n",
              "      <td>47994</td>\n",
              "      <td>92723</td>\n",
              "      <td>327550</td>\n",
              "      <td>698471</td>\n",
              "      <td>1311871</td>\n",
              "      <td>https://images.gr-assets.com/books/1360206420m...</td>\n",
              "      <td>https://images.gr-assets.com/books/1360206420s...</td>\n",
              "    </tr>\n",
              "    <tr>\n",
              "      <th>6</th>\n",
              "      <td>7</td>\n",
              "      <td>5907</td>\n",
              "      <td>5907</td>\n",
              "      <td>1540236</td>\n",
              "      <td>969</td>\n",
              "      <td>618260307</td>\n",
              "      <td>9.780618e+12</td>\n",
              "      <td>J.R.R. Tolkien</td>\n",
              "      <td>1937.0</td>\n",
              "      <td>The Hobbit or There and Back Again</td>\n",
              "      <td>...</td>\n",
              "      <td>2071616</td>\n",
              "      <td>2196809</td>\n",
              "      <td>37653</td>\n",
              "      <td>46023</td>\n",
              "      <td>76784</td>\n",
              "      <td>288649</td>\n",
              "      <td>665635</td>\n",
              "      <td>1119718</td>\n",
              "      <td>https://images.gr-assets.com/books/1372847500m...</td>\n",
              "      <td>https://images.gr-assets.com/books/1372847500s...</td>\n",
              "    </tr>\n",
              "    <tr>\n",
              "      <th>7</th>\n",
              "      <td>8</td>\n",
              "      <td>5107</td>\n",
              "      <td>5107</td>\n",
              "      <td>3036731</td>\n",
              "      <td>360</td>\n",
              "      <td>316769177</td>\n",
              "      <td>9.780317e+12</td>\n",
              "      <td>J.D. Salinger</td>\n",
              "      <td>1951.0</td>\n",
              "      <td>The Catcher in the Rye</td>\n",
              "      <td>...</td>\n",
              "      <td>2044241</td>\n",
              "      <td>2120637</td>\n",
              "      <td>44920</td>\n",
              "      <td>109383</td>\n",
              "      <td>185520</td>\n",
              "      <td>455042</td>\n",
              "      <td>661516</td>\n",
              "      <td>709176</td>\n",
              "      <td>https://images.gr-assets.com/books/1398034300m...</td>\n",
              "      <td>https://images.gr-assets.com/books/1398034300s...</td>\n",
              "    </tr>\n",
              "    <tr>\n",
              "      <th>8</th>\n",
              "      <td>9</td>\n",
              "      <td>960</td>\n",
              "      <td>960</td>\n",
              "      <td>3338963</td>\n",
              "      <td>311</td>\n",
              "      <td>1416524797</td>\n",
              "      <td>9.781417e+12</td>\n",
              "      <td>Dan Brown</td>\n",
              "      <td>2000.0</td>\n",
              "      <td>Angels &amp; Demons</td>\n",
              "      <td>...</td>\n",
              "      <td>2001311</td>\n",
              "      <td>2078754</td>\n",
              "      <td>25112</td>\n",
              "      <td>77841</td>\n",
              "      <td>145740</td>\n",
              "      <td>458429</td>\n",
              "      <td>716569</td>\n",
              "      <td>680175</td>\n",
              "      <td>https://images.gr-assets.com/books/1303390735m...</td>\n",
              "      <td>https://images.gr-assets.com/books/1303390735s...</td>\n",
              "    </tr>\n",
              "    <tr>\n",
              "      <th>9</th>\n",
              "      <td>10</td>\n",
              "      <td>1885</td>\n",
              "      <td>1885</td>\n",
              "      <td>3060926</td>\n",
              "      <td>3455</td>\n",
              "      <td>679783261</td>\n",
              "      <td>9.780680e+12</td>\n",
              "      <td>Jane Austen</td>\n",
              "      <td>1813.0</td>\n",
              "      <td>Pride and Prejudice</td>\n",
              "      <td>...</td>\n",
              "      <td>2035490</td>\n",
              "      <td>2191465</td>\n",
              "      <td>49152</td>\n",
              "      <td>54700</td>\n",
              "      <td>86485</td>\n",
              "      <td>284852</td>\n",
              "      <td>609755</td>\n",
              "      <td>1155673</td>\n",
              "      <td>https://images.gr-assets.com/books/1320399351m...</td>\n",
              "      <td>https://images.gr-assets.com/books/1320399351s...</td>\n",
              "    </tr>\n",
              "  </tbody>\n",
              "</table>\n",
              "<p>10 rows × 23 columns</p>\n",
              "</div>\n",
              "      <button class=\"colab-df-convert\" onclick=\"convertToInteractive('df-67f46622-1d0f-48ef-8911-cd507ae174bc')\"\n",
              "              title=\"Convert this dataframe to an interactive table.\"\n",
              "              style=\"display:none;\">\n",
              "        \n",
              "  <svg xmlns=\"http://www.w3.org/2000/svg\" height=\"24px\"viewBox=\"0 0 24 24\"\n",
              "       width=\"24px\">\n",
              "    <path d=\"M0 0h24v24H0V0z\" fill=\"none\"/>\n",
              "    <path d=\"M18.56 5.44l.94 2.06.94-2.06 2.06-.94-2.06-.94-.94-2.06-.94 2.06-2.06.94zm-11 1L8.5 8.5l.94-2.06 2.06-.94-2.06-.94L8.5 2.5l-.94 2.06-2.06.94zm10 10l.94 2.06.94-2.06 2.06-.94-2.06-.94-.94-2.06-.94 2.06-2.06.94z\"/><path d=\"M17.41 7.96l-1.37-1.37c-.4-.4-.92-.59-1.43-.59-.52 0-1.04.2-1.43.59L10.3 9.45l-7.72 7.72c-.78.78-.78 2.05 0 2.83L4 21.41c.39.39.9.59 1.41.59.51 0 1.02-.2 1.41-.59l7.78-7.78 2.81-2.81c.8-.78.8-2.07 0-2.86zM5.41 20L4 18.59l7.72-7.72 1.47 1.35L5.41 20z\"/>\n",
              "  </svg>\n",
              "      </button>\n",
              "      \n",
              "  <style>\n",
              "    .colab-df-container {\n",
              "      display:flex;\n",
              "      flex-wrap:wrap;\n",
              "      gap: 12px;\n",
              "    }\n",
              "\n",
              "    .colab-df-convert {\n",
              "      background-color: #E8F0FE;\n",
              "      border: none;\n",
              "      border-radius: 50%;\n",
              "      cursor: pointer;\n",
              "      display: none;\n",
              "      fill: #1967D2;\n",
              "      height: 32px;\n",
              "      padding: 0 0 0 0;\n",
              "      width: 32px;\n",
              "    }\n",
              "\n",
              "    .colab-df-convert:hover {\n",
              "      background-color: #E2EBFA;\n",
              "      box-shadow: 0px 1px 2px rgba(60, 64, 67, 0.3), 0px 1px 3px 1px rgba(60, 64, 67, 0.15);\n",
              "      fill: #174EA6;\n",
              "    }\n",
              "\n",
              "    [theme=dark] .colab-df-convert {\n",
              "      background-color: #3B4455;\n",
              "      fill: #D2E3FC;\n",
              "    }\n",
              "\n",
              "    [theme=dark] .colab-df-convert:hover {\n",
              "      background-color: #434B5C;\n",
              "      box-shadow: 0px 1px 3px 1px rgba(0, 0, 0, 0.15);\n",
              "      filter: drop-shadow(0px 1px 2px rgba(0, 0, 0, 0.3));\n",
              "      fill: #FFFFFF;\n",
              "    }\n",
              "  </style>\n",
              "\n",
              "      <script>\n",
              "        const buttonEl =\n",
              "          document.querySelector('#df-67f46622-1d0f-48ef-8911-cd507ae174bc button.colab-df-convert');\n",
              "        buttonEl.style.display =\n",
              "          google.colab.kernel.accessAllowed ? 'block' : 'none';\n",
              "\n",
              "        async function convertToInteractive(key) {\n",
              "          const element = document.querySelector('#df-67f46622-1d0f-48ef-8911-cd507ae174bc');\n",
              "          const dataTable =\n",
              "            await google.colab.kernel.invokeFunction('convertToInteractive',\n",
              "                                                     [key], {});\n",
              "          if (!dataTable) return;\n",
              "\n",
              "          const docLinkHtml = 'Like what you see? Visit the ' +\n",
              "            '<a target=\"_blank\" href=https://colab.research.google.com/notebooks/data_table.ipynb>data table notebook</a>'\n",
              "            + ' to learn more about interactive tables.';\n",
              "          element.innerHTML = '';\n",
              "          dataTable['output_type'] = 'display_data';\n",
              "          await google.colab.output.renderOutput(dataTable, element);\n",
              "          const docLink = document.createElement('div');\n",
              "          docLink.innerHTML = docLinkHtml;\n",
              "          element.appendChild(docLink);\n",
              "        }\n",
              "      </script>\n",
              "    </div>\n",
              "  </div>\n",
              "  "
            ]
          },
          "metadata": {},
          "execution_count": 198
        }
      ],
      "source": [
        "books.head(10)"
      ]
    },
    {
      "cell_type": "code",
      "execution_count": 199,
      "metadata": {
        "colab": {
          "base_uri": "https://localhost:8080/",
          "height": 363
        },
        "id": "et_TVtScEAB-",
        "outputId": "5bd4e2ed-38bb-4c34-8633-c4a06200d451"
      },
      "outputs": [
        {
          "output_type": "execute_result",
          "data": {
            "text/plain": [
              "   book_id  user_id  rating\n",
              "0        1      314       5\n",
              "1        1      439       3\n",
              "2        1      588       5\n",
              "3        1     1169       4\n",
              "4        1     1185       4\n",
              "5        1     2077       4\n",
              "6        1     2487       4\n",
              "7        1     2900       5\n",
              "8        1     3662       4\n",
              "9        1     3922       5"
            ],
            "text/html": [
              "\n",
              "  <div id=\"df-09eacdab-ca1a-4307-8c8c-079ebc81fe0d\">\n",
              "    <div class=\"colab-df-container\">\n",
              "      <div>\n",
              "<style scoped>\n",
              "    .dataframe tbody tr th:only-of-type {\n",
              "        vertical-align: middle;\n",
              "    }\n",
              "\n",
              "    .dataframe tbody tr th {\n",
              "        vertical-align: top;\n",
              "    }\n",
              "\n",
              "    .dataframe thead th {\n",
              "        text-align: right;\n",
              "    }\n",
              "</style>\n",
              "<table border=\"1\" class=\"dataframe\">\n",
              "  <thead>\n",
              "    <tr style=\"text-align: right;\">\n",
              "      <th></th>\n",
              "      <th>book_id</th>\n",
              "      <th>user_id</th>\n",
              "      <th>rating</th>\n",
              "    </tr>\n",
              "  </thead>\n",
              "  <tbody>\n",
              "    <tr>\n",
              "      <th>0</th>\n",
              "      <td>1</td>\n",
              "      <td>314</td>\n",
              "      <td>5</td>\n",
              "    </tr>\n",
              "    <tr>\n",
              "      <th>1</th>\n",
              "      <td>1</td>\n",
              "      <td>439</td>\n",
              "      <td>3</td>\n",
              "    </tr>\n",
              "    <tr>\n",
              "      <th>2</th>\n",
              "      <td>1</td>\n",
              "      <td>588</td>\n",
              "      <td>5</td>\n",
              "    </tr>\n",
              "    <tr>\n",
              "      <th>3</th>\n",
              "      <td>1</td>\n",
              "      <td>1169</td>\n",
              "      <td>4</td>\n",
              "    </tr>\n",
              "    <tr>\n",
              "      <th>4</th>\n",
              "      <td>1</td>\n",
              "      <td>1185</td>\n",
              "      <td>4</td>\n",
              "    </tr>\n",
              "    <tr>\n",
              "      <th>5</th>\n",
              "      <td>1</td>\n",
              "      <td>2077</td>\n",
              "      <td>4</td>\n",
              "    </tr>\n",
              "    <tr>\n",
              "      <th>6</th>\n",
              "      <td>1</td>\n",
              "      <td>2487</td>\n",
              "      <td>4</td>\n",
              "    </tr>\n",
              "    <tr>\n",
              "      <th>7</th>\n",
              "      <td>1</td>\n",
              "      <td>2900</td>\n",
              "      <td>5</td>\n",
              "    </tr>\n",
              "    <tr>\n",
              "      <th>8</th>\n",
              "      <td>1</td>\n",
              "      <td>3662</td>\n",
              "      <td>4</td>\n",
              "    </tr>\n",
              "    <tr>\n",
              "      <th>9</th>\n",
              "      <td>1</td>\n",
              "      <td>3922</td>\n",
              "      <td>5</td>\n",
              "    </tr>\n",
              "  </tbody>\n",
              "</table>\n",
              "</div>\n",
              "      <button class=\"colab-df-convert\" onclick=\"convertToInteractive('df-09eacdab-ca1a-4307-8c8c-079ebc81fe0d')\"\n",
              "              title=\"Convert this dataframe to an interactive table.\"\n",
              "              style=\"display:none;\">\n",
              "        \n",
              "  <svg xmlns=\"http://www.w3.org/2000/svg\" height=\"24px\"viewBox=\"0 0 24 24\"\n",
              "       width=\"24px\">\n",
              "    <path d=\"M0 0h24v24H0V0z\" fill=\"none\"/>\n",
              "    <path d=\"M18.56 5.44l.94 2.06.94-2.06 2.06-.94-2.06-.94-.94-2.06-.94 2.06-2.06.94zm-11 1L8.5 8.5l.94-2.06 2.06-.94-2.06-.94L8.5 2.5l-.94 2.06-2.06.94zm10 10l.94 2.06.94-2.06 2.06-.94-2.06-.94-.94-2.06-.94 2.06-2.06.94z\"/><path d=\"M17.41 7.96l-1.37-1.37c-.4-.4-.92-.59-1.43-.59-.52 0-1.04.2-1.43.59L10.3 9.45l-7.72 7.72c-.78.78-.78 2.05 0 2.83L4 21.41c.39.39.9.59 1.41.59.51 0 1.02-.2 1.41-.59l7.78-7.78 2.81-2.81c.8-.78.8-2.07 0-2.86zM5.41 20L4 18.59l7.72-7.72 1.47 1.35L5.41 20z\"/>\n",
              "  </svg>\n",
              "      </button>\n",
              "      \n",
              "  <style>\n",
              "    .colab-df-container {\n",
              "      display:flex;\n",
              "      flex-wrap:wrap;\n",
              "      gap: 12px;\n",
              "    }\n",
              "\n",
              "    .colab-df-convert {\n",
              "      background-color: #E8F0FE;\n",
              "      border: none;\n",
              "      border-radius: 50%;\n",
              "      cursor: pointer;\n",
              "      display: none;\n",
              "      fill: #1967D2;\n",
              "      height: 32px;\n",
              "      padding: 0 0 0 0;\n",
              "      width: 32px;\n",
              "    }\n",
              "\n",
              "    .colab-df-convert:hover {\n",
              "      background-color: #E2EBFA;\n",
              "      box-shadow: 0px 1px 2px rgba(60, 64, 67, 0.3), 0px 1px 3px 1px rgba(60, 64, 67, 0.15);\n",
              "      fill: #174EA6;\n",
              "    }\n",
              "\n",
              "    [theme=dark] .colab-df-convert {\n",
              "      background-color: #3B4455;\n",
              "      fill: #D2E3FC;\n",
              "    }\n",
              "\n",
              "    [theme=dark] .colab-df-convert:hover {\n",
              "      background-color: #434B5C;\n",
              "      box-shadow: 0px 1px 3px 1px rgba(0, 0, 0, 0.15);\n",
              "      filter: drop-shadow(0px 1px 2px rgba(0, 0, 0, 0.3));\n",
              "      fill: #FFFFFF;\n",
              "    }\n",
              "  </style>\n",
              "\n",
              "      <script>\n",
              "        const buttonEl =\n",
              "          document.querySelector('#df-09eacdab-ca1a-4307-8c8c-079ebc81fe0d button.colab-df-convert');\n",
              "        buttonEl.style.display =\n",
              "          google.colab.kernel.accessAllowed ? 'block' : 'none';\n",
              "\n",
              "        async function convertToInteractive(key) {\n",
              "          const element = document.querySelector('#df-09eacdab-ca1a-4307-8c8c-079ebc81fe0d');\n",
              "          const dataTable =\n",
              "            await google.colab.kernel.invokeFunction('convertToInteractive',\n",
              "                                                     [key], {});\n",
              "          if (!dataTable) return;\n",
              "\n",
              "          const docLinkHtml = 'Like what you see? Visit the ' +\n",
              "            '<a target=\"_blank\" href=https://colab.research.google.com/notebooks/data_table.ipynb>data table notebook</a>'\n",
              "            + ' to learn more about interactive tables.';\n",
              "          element.innerHTML = '';\n",
              "          dataTable['output_type'] = 'display_data';\n",
              "          await google.colab.output.renderOutput(dataTable, element);\n",
              "          const docLink = document.createElement('div');\n",
              "          docLink.innerHTML = docLinkHtml;\n",
              "          element.appendChild(docLink);\n",
              "        }\n",
              "      </script>\n",
              "    </div>\n",
              "  </div>\n",
              "  "
            ]
          },
          "metadata": {},
          "execution_count": 199
        }
      ],
      "source": [
        "ratings.head(10)"
      ]
    },
    {
      "cell_type": "code",
      "execution_count": 200,
      "metadata": {
        "id": "-8JNzT9lD3i4"
      },
      "outputs": [],
      "source": [
        "#Removing unnecessary columns.\n",
        "\n",
        "books = books[['book_id', 'authors', 'title', 'language_code', 'average_rating', 'ratings_count']]\n",
        "ratings = ratings[['user_id', 'book_id', 'rating']]"
      ]
    },
    {
      "cell_type": "code",
      "execution_count": 201,
      "metadata": {
        "id": "Cq38Vt1BEIpw"
      },
      "outputs": [],
      "source": [
        "#Creating a dataframe named \"df\" by merge the Books and Ratings datasets by the column given in the \"on\" parameter.\n",
        "\n",
        "df = pd.merge(ratings, books, on='book_id')"
      ]
    },
    {
      "cell_type": "code",
      "execution_count": 202,
      "metadata": {
        "colab": {
          "base_uri": "https://localhost:8080/",
          "height": 407
        },
        "id": "tqNdyCvzEJ7N",
        "outputId": "1561af2a-645b-464e-ac5d-b2dfd4f1e975"
      },
      "outputs": [
        {
          "output_type": "execute_result",
          "data": {
            "text/plain": [
              "   user_id  book_id  rating                      authors  \\\n",
              "0      314        1       5  J.K. Rowling, Mary GrandPré   \n",
              "1      439        1       3  J.K. Rowling, Mary GrandPré   \n",
              "2      588        1       5  J.K. Rowling, Mary GrandPré   \n",
              "3     1169        1       4  J.K. Rowling, Mary GrandPré   \n",
              "4     1185        1       4  J.K. Rowling, Mary GrandPré   \n",
              "5     2077        1       4  J.K. Rowling, Mary GrandPré   \n",
              "6     2487        1       4  J.K. Rowling, Mary GrandPré   \n",
              "7     2900        1       5  J.K. Rowling, Mary GrandPré   \n",
              "8     3662        1       4  J.K. Rowling, Mary GrandPré   \n",
              "9     3922        1       5  J.K. Rowling, Mary GrandPré   \n",
              "\n",
              "                                               title language_code  \\\n",
              "0  Harry Potter and the Half-Blood Prince (Harry ...           eng   \n",
              "1  Harry Potter and the Half-Blood Prince (Harry ...           eng   \n",
              "2  Harry Potter and the Half-Blood Prince (Harry ...           eng   \n",
              "3  Harry Potter and the Half-Blood Prince (Harry ...           eng   \n",
              "4  Harry Potter and the Half-Blood Prince (Harry ...           eng   \n",
              "5  Harry Potter and the Half-Blood Prince (Harry ...           eng   \n",
              "6  Harry Potter and the Half-Blood Prince (Harry ...           eng   \n",
              "7  Harry Potter and the Half-Blood Prince (Harry ...           eng   \n",
              "8  Harry Potter and the Half-Blood Prince (Harry ...           eng   \n",
              "9  Harry Potter and the Half-Blood Prince (Harry ...           eng   \n",
              "\n",
              "   average_rating  ratings_count  \n",
              "0            4.54        1678823  \n",
              "1            4.54        1678823  \n",
              "2            4.54        1678823  \n",
              "3            4.54        1678823  \n",
              "4            4.54        1678823  \n",
              "5            4.54        1678823  \n",
              "6            4.54        1678823  \n",
              "7            4.54        1678823  \n",
              "8            4.54        1678823  \n",
              "9            4.54        1678823  "
            ],
            "text/html": [
              "\n",
              "  <div id=\"df-e099f54c-34e2-4e54-b8db-362c007483fc\">\n",
              "    <div class=\"colab-df-container\">\n",
              "      <div>\n",
              "<style scoped>\n",
              "    .dataframe tbody tr th:only-of-type {\n",
              "        vertical-align: middle;\n",
              "    }\n",
              "\n",
              "    .dataframe tbody tr th {\n",
              "        vertical-align: top;\n",
              "    }\n",
              "\n",
              "    .dataframe thead th {\n",
              "        text-align: right;\n",
              "    }\n",
              "</style>\n",
              "<table border=\"1\" class=\"dataframe\">\n",
              "  <thead>\n",
              "    <tr style=\"text-align: right;\">\n",
              "      <th></th>\n",
              "      <th>user_id</th>\n",
              "      <th>book_id</th>\n",
              "      <th>rating</th>\n",
              "      <th>authors</th>\n",
              "      <th>title</th>\n",
              "      <th>language_code</th>\n",
              "      <th>average_rating</th>\n",
              "      <th>ratings_count</th>\n",
              "    </tr>\n",
              "  </thead>\n",
              "  <tbody>\n",
              "    <tr>\n",
              "      <th>0</th>\n",
              "      <td>314</td>\n",
              "      <td>1</td>\n",
              "      <td>5</td>\n",
              "      <td>J.K. Rowling, Mary GrandPré</td>\n",
              "      <td>Harry Potter and the Half-Blood Prince (Harry ...</td>\n",
              "      <td>eng</td>\n",
              "      <td>4.54</td>\n",
              "      <td>1678823</td>\n",
              "    </tr>\n",
              "    <tr>\n",
              "      <th>1</th>\n",
              "      <td>439</td>\n",
              "      <td>1</td>\n",
              "      <td>3</td>\n",
              "      <td>J.K. Rowling, Mary GrandPré</td>\n",
              "      <td>Harry Potter and the Half-Blood Prince (Harry ...</td>\n",
              "      <td>eng</td>\n",
              "      <td>4.54</td>\n",
              "      <td>1678823</td>\n",
              "    </tr>\n",
              "    <tr>\n",
              "      <th>2</th>\n",
              "      <td>588</td>\n",
              "      <td>1</td>\n",
              "      <td>5</td>\n",
              "      <td>J.K. Rowling, Mary GrandPré</td>\n",
              "      <td>Harry Potter and the Half-Blood Prince (Harry ...</td>\n",
              "      <td>eng</td>\n",
              "      <td>4.54</td>\n",
              "      <td>1678823</td>\n",
              "    </tr>\n",
              "    <tr>\n",
              "      <th>3</th>\n",
              "      <td>1169</td>\n",
              "      <td>1</td>\n",
              "      <td>4</td>\n",
              "      <td>J.K. Rowling, Mary GrandPré</td>\n",
              "      <td>Harry Potter and the Half-Blood Prince (Harry ...</td>\n",
              "      <td>eng</td>\n",
              "      <td>4.54</td>\n",
              "      <td>1678823</td>\n",
              "    </tr>\n",
              "    <tr>\n",
              "      <th>4</th>\n",
              "      <td>1185</td>\n",
              "      <td>1</td>\n",
              "      <td>4</td>\n",
              "      <td>J.K. Rowling, Mary GrandPré</td>\n",
              "      <td>Harry Potter and the Half-Blood Prince (Harry ...</td>\n",
              "      <td>eng</td>\n",
              "      <td>4.54</td>\n",
              "      <td>1678823</td>\n",
              "    </tr>\n",
              "    <tr>\n",
              "      <th>5</th>\n",
              "      <td>2077</td>\n",
              "      <td>1</td>\n",
              "      <td>4</td>\n",
              "      <td>J.K. Rowling, Mary GrandPré</td>\n",
              "      <td>Harry Potter and the Half-Blood Prince (Harry ...</td>\n",
              "      <td>eng</td>\n",
              "      <td>4.54</td>\n",
              "      <td>1678823</td>\n",
              "    </tr>\n",
              "    <tr>\n",
              "      <th>6</th>\n",
              "      <td>2487</td>\n",
              "      <td>1</td>\n",
              "      <td>4</td>\n",
              "      <td>J.K. Rowling, Mary GrandPré</td>\n",
              "      <td>Harry Potter and the Half-Blood Prince (Harry ...</td>\n",
              "      <td>eng</td>\n",
              "      <td>4.54</td>\n",
              "      <td>1678823</td>\n",
              "    </tr>\n",
              "    <tr>\n",
              "      <th>7</th>\n",
              "      <td>2900</td>\n",
              "      <td>1</td>\n",
              "      <td>5</td>\n",
              "      <td>J.K. Rowling, Mary GrandPré</td>\n",
              "      <td>Harry Potter and the Half-Blood Prince (Harry ...</td>\n",
              "      <td>eng</td>\n",
              "      <td>4.54</td>\n",
              "      <td>1678823</td>\n",
              "    </tr>\n",
              "    <tr>\n",
              "      <th>8</th>\n",
              "      <td>3662</td>\n",
              "      <td>1</td>\n",
              "      <td>4</td>\n",
              "      <td>J.K. Rowling, Mary GrandPré</td>\n",
              "      <td>Harry Potter and the Half-Blood Prince (Harry ...</td>\n",
              "      <td>eng</td>\n",
              "      <td>4.54</td>\n",
              "      <td>1678823</td>\n",
              "    </tr>\n",
              "    <tr>\n",
              "      <th>9</th>\n",
              "      <td>3922</td>\n",
              "      <td>1</td>\n",
              "      <td>5</td>\n",
              "      <td>J.K. Rowling, Mary GrandPré</td>\n",
              "      <td>Harry Potter and the Half-Blood Prince (Harry ...</td>\n",
              "      <td>eng</td>\n",
              "      <td>4.54</td>\n",
              "      <td>1678823</td>\n",
              "    </tr>\n",
              "  </tbody>\n",
              "</table>\n",
              "</div>\n",
              "      <button class=\"colab-df-convert\" onclick=\"convertToInteractive('df-e099f54c-34e2-4e54-b8db-362c007483fc')\"\n",
              "              title=\"Convert this dataframe to an interactive table.\"\n",
              "              style=\"display:none;\">\n",
              "        \n",
              "  <svg xmlns=\"http://www.w3.org/2000/svg\" height=\"24px\"viewBox=\"0 0 24 24\"\n",
              "       width=\"24px\">\n",
              "    <path d=\"M0 0h24v24H0V0z\" fill=\"none\"/>\n",
              "    <path d=\"M18.56 5.44l.94 2.06.94-2.06 2.06-.94-2.06-.94-.94-2.06-.94 2.06-2.06.94zm-11 1L8.5 8.5l.94-2.06 2.06-.94-2.06-.94L8.5 2.5l-.94 2.06-2.06.94zm10 10l.94 2.06.94-2.06 2.06-.94-2.06-.94-.94-2.06-.94 2.06-2.06.94z\"/><path d=\"M17.41 7.96l-1.37-1.37c-.4-.4-.92-.59-1.43-.59-.52 0-1.04.2-1.43.59L10.3 9.45l-7.72 7.72c-.78.78-.78 2.05 0 2.83L4 21.41c.39.39.9.59 1.41.59.51 0 1.02-.2 1.41-.59l7.78-7.78 2.81-2.81c.8-.78.8-2.07 0-2.86zM5.41 20L4 18.59l7.72-7.72 1.47 1.35L5.41 20z\"/>\n",
              "  </svg>\n",
              "      </button>\n",
              "      \n",
              "  <style>\n",
              "    .colab-df-container {\n",
              "      display:flex;\n",
              "      flex-wrap:wrap;\n",
              "      gap: 12px;\n",
              "    }\n",
              "\n",
              "    .colab-df-convert {\n",
              "      background-color: #E8F0FE;\n",
              "      border: none;\n",
              "      border-radius: 50%;\n",
              "      cursor: pointer;\n",
              "      display: none;\n",
              "      fill: #1967D2;\n",
              "      height: 32px;\n",
              "      padding: 0 0 0 0;\n",
              "      width: 32px;\n",
              "    }\n",
              "\n",
              "    .colab-df-convert:hover {\n",
              "      background-color: #E2EBFA;\n",
              "      box-shadow: 0px 1px 2px rgba(60, 64, 67, 0.3), 0px 1px 3px 1px rgba(60, 64, 67, 0.15);\n",
              "      fill: #174EA6;\n",
              "    }\n",
              "\n",
              "    [theme=dark] .colab-df-convert {\n",
              "      background-color: #3B4455;\n",
              "      fill: #D2E3FC;\n",
              "    }\n",
              "\n",
              "    [theme=dark] .colab-df-convert:hover {\n",
              "      background-color: #434B5C;\n",
              "      box-shadow: 0px 1px 3px 1px rgba(0, 0, 0, 0.15);\n",
              "      filter: drop-shadow(0px 1px 2px rgba(0, 0, 0, 0.3));\n",
              "      fill: #FFFFFF;\n",
              "    }\n",
              "  </style>\n",
              "\n",
              "      <script>\n",
              "        const buttonEl =\n",
              "          document.querySelector('#df-e099f54c-34e2-4e54-b8db-362c007483fc button.colab-df-convert');\n",
              "        buttonEl.style.display =\n",
              "          google.colab.kernel.accessAllowed ? 'block' : 'none';\n",
              "\n",
              "        async function convertToInteractive(key) {\n",
              "          const element = document.querySelector('#df-e099f54c-34e2-4e54-b8db-362c007483fc');\n",
              "          const dataTable =\n",
              "            await google.colab.kernel.invokeFunction('convertToInteractive',\n",
              "                                                     [key], {});\n",
              "          if (!dataTable) return;\n",
              "\n",
              "          const docLinkHtml = 'Like what you see? Visit the ' +\n",
              "            '<a target=\"_blank\" href=https://colab.research.google.com/notebooks/data_table.ipynb>data table notebook</a>'\n",
              "            + ' to learn more about interactive tables.';\n",
              "          element.innerHTML = '';\n",
              "          dataTable['output_type'] = 'display_data';\n",
              "          await google.colab.output.renderOutput(dataTable, element);\n",
              "          const docLink = document.createElement('div');\n",
              "          docLink.innerHTML = docLinkHtml;\n",
              "          element.appendChild(docLink);\n",
              "        }\n",
              "      </script>\n",
              "    </div>\n",
              "  </div>\n",
              "  "
            ]
          },
          "metadata": {},
          "execution_count": 202
        }
      ],
      "source": [
        "df.head(10)"
      ]
    },
    {
      "cell_type": "code",
      "execution_count": 203,
      "metadata": {
        "colab": {
          "base_uri": "https://localhost:8080/"
        },
        "id": "Jnc9CqA5I9GD",
        "outputId": "ca580a8f-54ca-47ea-9bb4-9556566f6526"
      },
      "outputs": [
        {
          "output_type": "execute_result",
          "data": {
            "text/plain": [
              "(85090, 8)"
            ]
          },
          "metadata": {},
          "execution_count": 203
        }
      ],
      "source": [
        "df.shape"
      ]
    },
    {
      "cell_type": "code",
      "execution_count": 204,
      "metadata": {
        "colab": {
          "base_uri": "https://localhost:8080/"
        },
        "id": "jk-gmL1BI_Yz",
        "outputId": "f3f4a103-b9f7-482c-fe81-0c862da1ffc4"
      },
      "outputs": [
        {
          "output_type": "execute_result",
          "data": {
            "text/plain": [
              "user_id               0\n",
              "book_id               0\n",
              "rating                0\n",
              "authors               0\n",
              "title                 0\n",
              "language_code     11639\n",
              "average_rating        0\n",
              "ratings_count         0\n",
              "dtype: int64"
            ]
          },
          "metadata": {},
          "execution_count": 204
        }
      ],
      "source": [
        "#Checking for null values in the data set.\n",
        "\n",
        "df.isna().sum()"
      ]
    },
    {
      "cell_type": "code",
      "execution_count": 205,
      "metadata": {
        "id": "jKyJPQY_I_UB"
      },
      "outputs": [],
      "source": [
        "#Null values (NaN values) have been replaced with the most used value in the column.\n",
        "\n",
        "mostUsedLang = df['language_code'].mode()[0]\n",
        "df['language_code'].fillna(mostUsedLang, inplace=True)"
      ]
    },
    {
      "cell_type": "code",
      "execution_count": 206,
      "metadata": {
        "colab": {
          "base_uri": "https://localhost:8080/"
        },
        "id": "2jJbD7kJKFAP",
        "outputId": "659bed90-a401-422e-9b04-b9b232605005"
      },
      "outputs": [
        {
          "output_type": "execute_result",
          "data": {
            "text/plain": [
              "user_id           0\n",
              "book_id           0\n",
              "rating            0\n",
              "authors           0\n",
              "title             0\n",
              "language_code     0\n",
              "average_rating    0\n",
              "ratings_count     0\n",
              "dtype: int64"
            ]
          },
          "metadata": {},
          "execution_count": 206
        }
      ],
      "source": [
        "df.isna().sum()"
      ]
    },
    {
      "cell_type": "code",
      "execution_count": 207,
      "metadata": {
        "colab": {
          "base_uri": "https://localhost:8080/",
          "height": 250
        },
        "id": "tf-1r2snKGZw",
        "outputId": "526e8526-ccd6-449b-8a47-e2eefa3afcc2"
      },
      "outputs": [
        {
          "output_type": "execute_result",
          "data": {
            "text/plain": [
              "   user_id  book_id  rating                      authors  \\\n",
              "0      314        1       5  J.K. Rowling, Mary GrandPré   \n",
              "1      439        1       3  J.K. Rowling, Mary GrandPré   \n",
              "2      588        1       5  J.K. Rowling, Mary GrandPré   \n",
              "3     1169        1       4  J.K. Rowling, Mary GrandPré   \n",
              "4     1185        1       4  J.K. Rowling, Mary GrandPré   \n",
              "\n",
              "                                               title language_code  \\\n",
              "0  Harry Potter and the Half-Blood Prince (Harry ...           eng   \n",
              "1  Harry Potter and the Half-Blood Prince (Harry ...           eng   \n",
              "2  Harry Potter and the Half-Blood Prince (Harry ...           eng   \n",
              "3  Harry Potter and the Half-Blood Prince (Harry ...           eng   \n",
              "4  Harry Potter and the Half-Blood Prince (Harry ...           eng   \n",
              "\n",
              "   average_rating  ratings_count  \n",
              "0            4.54        1678823  \n",
              "1            4.54        1678823  \n",
              "2            4.54        1678823  \n",
              "3            4.54        1678823  \n",
              "4            4.54        1678823  "
            ],
            "text/html": [
              "\n",
              "  <div id=\"df-f755bf97-ed5b-43fb-922b-f812f40c134c\">\n",
              "    <div class=\"colab-df-container\">\n",
              "      <div>\n",
              "<style scoped>\n",
              "    .dataframe tbody tr th:only-of-type {\n",
              "        vertical-align: middle;\n",
              "    }\n",
              "\n",
              "    .dataframe tbody tr th {\n",
              "        vertical-align: top;\n",
              "    }\n",
              "\n",
              "    .dataframe thead th {\n",
              "        text-align: right;\n",
              "    }\n",
              "</style>\n",
              "<table border=\"1\" class=\"dataframe\">\n",
              "  <thead>\n",
              "    <tr style=\"text-align: right;\">\n",
              "      <th></th>\n",
              "      <th>user_id</th>\n",
              "      <th>book_id</th>\n",
              "      <th>rating</th>\n",
              "      <th>authors</th>\n",
              "      <th>title</th>\n",
              "      <th>language_code</th>\n",
              "      <th>average_rating</th>\n",
              "      <th>ratings_count</th>\n",
              "    </tr>\n",
              "  </thead>\n",
              "  <tbody>\n",
              "    <tr>\n",
              "      <th>0</th>\n",
              "      <td>314</td>\n",
              "      <td>1</td>\n",
              "      <td>5</td>\n",
              "      <td>J.K. Rowling, Mary GrandPré</td>\n",
              "      <td>Harry Potter and the Half-Blood Prince (Harry ...</td>\n",
              "      <td>eng</td>\n",
              "      <td>4.54</td>\n",
              "      <td>1678823</td>\n",
              "    </tr>\n",
              "    <tr>\n",
              "      <th>1</th>\n",
              "      <td>439</td>\n",
              "      <td>1</td>\n",
              "      <td>3</td>\n",
              "      <td>J.K. Rowling, Mary GrandPré</td>\n",
              "      <td>Harry Potter and the Half-Blood Prince (Harry ...</td>\n",
              "      <td>eng</td>\n",
              "      <td>4.54</td>\n",
              "      <td>1678823</td>\n",
              "    </tr>\n",
              "    <tr>\n",
              "      <th>2</th>\n",
              "      <td>588</td>\n",
              "      <td>1</td>\n",
              "      <td>5</td>\n",
              "      <td>J.K. Rowling, Mary GrandPré</td>\n",
              "      <td>Harry Potter and the Half-Blood Prince (Harry ...</td>\n",
              "      <td>eng</td>\n",
              "      <td>4.54</td>\n",
              "      <td>1678823</td>\n",
              "    </tr>\n",
              "    <tr>\n",
              "      <th>3</th>\n",
              "      <td>1169</td>\n",
              "      <td>1</td>\n",
              "      <td>4</td>\n",
              "      <td>J.K. Rowling, Mary GrandPré</td>\n",
              "      <td>Harry Potter and the Half-Blood Prince (Harry ...</td>\n",
              "      <td>eng</td>\n",
              "      <td>4.54</td>\n",
              "      <td>1678823</td>\n",
              "    </tr>\n",
              "    <tr>\n",
              "      <th>4</th>\n",
              "      <td>1185</td>\n",
              "      <td>1</td>\n",
              "      <td>4</td>\n",
              "      <td>J.K. Rowling, Mary GrandPré</td>\n",
              "      <td>Harry Potter and the Half-Blood Prince (Harry ...</td>\n",
              "      <td>eng</td>\n",
              "      <td>4.54</td>\n",
              "      <td>1678823</td>\n",
              "    </tr>\n",
              "  </tbody>\n",
              "</table>\n",
              "</div>\n",
              "      <button class=\"colab-df-convert\" onclick=\"convertToInteractive('df-f755bf97-ed5b-43fb-922b-f812f40c134c')\"\n",
              "              title=\"Convert this dataframe to an interactive table.\"\n",
              "              style=\"display:none;\">\n",
              "        \n",
              "  <svg xmlns=\"http://www.w3.org/2000/svg\" height=\"24px\"viewBox=\"0 0 24 24\"\n",
              "       width=\"24px\">\n",
              "    <path d=\"M0 0h24v24H0V0z\" fill=\"none\"/>\n",
              "    <path d=\"M18.56 5.44l.94 2.06.94-2.06 2.06-.94-2.06-.94-.94-2.06-.94 2.06-2.06.94zm-11 1L8.5 8.5l.94-2.06 2.06-.94-2.06-.94L8.5 2.5l-.94 2.06-2.06.94zm10 10l.94 2.06.94-2.06 2.06-.94-2.06-.94-.94-2.06-.94 2.06-2.06.94z\"/><path d=\"M17.41 7.96l-1.37-1.37c-.4-.4-.92-.59-1.43-.59-.52 0-1.04.2-1.43.59L10.3 9.45l-7.72 7.72c-.78.78-.78 2.05 0 2.83L4 21.41c.39.39.9.59 1.41.59.51 0 1.02-.2 1.41-.59l7.78-7.78 2.81-2.81c.8-.78.8-2.07 0-2.86zM5.41 20L4 18.59l7.72-7.72 1.47 1.35L5.41 20z\"/>\n",
              "  </svg>\n",
              "      </button>\n",
              "      \n",
              "  <style>\n",
              "    .colab-df-container {\n",
              "      display:flex;\n",
              "      flex-wrap:wrap;\n",
              "      gap: 12px;\n",
              "    }\n",
              "\n",
              "    .colab-df-convert {\n",
              "      background-color: #E8F0FE;\n",
              "      border: none;\n",
              "      border-radius: 50%;\n",
              "      cursor: pointer;\n",
              "      display: none;\n",
              "      fill: #1967D2;\n",
              "      height: 32px;\n",
              "      padding: 0 0 0 0;\n",
              "      width: 32px;\n",
              "    }\n",
              "\n",
              "    .colab-df-convert:hover {\n",
              "      background-color: #E2EBFA;\n",
              "      box-shadow: 0px 1px 2px rgba(60, 64, 67, 0.3), 0px 1px 3px 1px rgba(60, 64, 67, 0.15);\n",
              "      fill: #174EA6;\n",
              "    }\n",
              "\n",
              "    [theme=dark] .colab-df-convert {\n",
              "      background-color: #3B4455;\n",
              "      fill: #D2E3FC;\n",
              "    }\n",
              "\n",
              "    [theme=dark] .colab-df-convert:hover {\n",
              "      background-color: #434B5C;\n",
              "      box-shadow: 0px 1px 3px 1px rgba(0, 0, 0, 0.15);\n",
              "      filter: drop-shadow(0px 1px 2px rgba(0, 0, 0, 0.3));\n",
              "      fill: #FFFFFF;\n",
              "    }\n",
              "  </style>\n",
              "\n",
              "      <script>\n",
              "        const buttonEl =\n",
              "          document.querySelector('#df-f755bf97-ed5b-43fb-922b-f812f40c134c button.colab-df-convert');\n",
              "        buttonEl.style.display =\n",
              "          google.colab.kernel.accessAllowed ? 'block' : 'none';\n",
              "\n",
              "        async function convertToInteractive(key) {\n",
              "          const element = document.querySelector('#df-f755bf97-ed5b-43fb-922b-f812f40c134c');\n",
              "          const dataTable =\n",
              "            await google.colab.kernel.invokeFunction('convertToInteractive',\n",
              "                                                     [key], {});\n",
              "          if (!dataTable) return;\n",
              "\n",
              "          const docLinkHtml = 'Like what you see? Visit the ' +\n",
              "            '<a target=\"_blank\" href=https://colab.research.google.com/notebooks/data_table.ipynb>data table notebook</a>'\n",
              "            + ' to learn more about interactive tables.';\n",
              "          element.innerHTML = '';\n",
              "          dataTable['output_type'] = 'display_data';\n",
              "          await google.colab.output.renderOutput(dataTable, element);\n",
              "          const docLink = document.createElement('div');\n",
              "          docLink.innerHTML = docLinkHtml;\n",
              "          element.appendChild(docLink);\n",
              "        }\n",
              "      </script>\n",
              "    </div>\n",
              "  </div>\n",
              "  "
            ]
          },
          "metadata": {},
          "execution_count": 207
        }
      ],
      "source": [
        "df.head(5)"
      ]
    },
    {
      "cell_type": "code",
      "execution_count": 208,
      "metadata": {
        "id": "xDppHfPGERt-"
      },
      "outputs": [],
      "source": [
        "#Indexing using user numbers rather than user IDs to represent each user in the dataset.\n",
        "\n",
        "#For each unique user ID in the 'user_id' column, a user mapping is created corresponding to an \n",
        "#integer and with this mapping a new column named 'user' is added. \n",
        "#This allows easier processing of user IDs in the data frame in numeric format.\n",
        "\n",
        "userMapping = {id:i for i, id in enumerate(df['user_id'].unique())}\n",
        "df['user'] = df['user_id'].apply(lambda x: userMapping[x])"
      ]
    },
    {
      "cell_type": "code",
      "execution_count": 209,
      "metadata": {
        "id": "0BCOaP0irK4I"
      },
      "outputs": [],
      "source": [
        "#Rename columns.\n",
        "\n",
        "df = df.rename(columns={'book_id': 'book', 'rating': 'ratingScore'})"
      ]
    },
    {
      "cell_type": "code",
      "execution_count": 210,
      "metadata": {
        "id": "ayh3IoMHrPt8"
      },
      "outputs": [],
      "source": [
        "#Converts 'user' and 'book' columns to numeric data and determines unique user and book counts. \n",
        "#Data is prepared for the model training process.\n",
        "\n",
        "userEncoder = LabelEncoder()\n",
        "df['user'] = userEncoder.fit_transform(df['user_id'].values)\n",
        "n_users = len(userEncoder.classes_)\n",
        "\n",
        "bookEncoder = LabelEncoder()\n",
        "df['book'] = bookEncoder.fit_transform(df['book'].values)\n",
        "n_books = len(bookEncoder.classes_)"
      ]
    },
    {
      "cell_type": "markdown",
      "metadata": {
        "id": "imZicrmGJ71C"
      },
      "source": [
        "## **Data Visualization:**"
      ]
    },
    {
      "cell_type": "code",
      "execution_count": 211,
      "metadata": {
        "colab": {
          "base_uri": "https://localhost:8080/"
        },
        "id": "2Mbxm1UhL7uz",
        "outputId": "8f6b7ae4-6e43-483c-8292-f6e04f94c30a"
      },
      "outputs": [
        {
          "output_type": "execute_result",
          "data": {
            "text/plain": [
              "['user_id',\n",
              " 'book',\n",
              " 'ratingScore',\n",
              " 'authors',\n",
              " 'title',\n",
              " 'language_code',\n",
              " 'average_rating',\n",
              " 'ratings_count',\n",
              " 'user']"
            ]
          },
          "metadata": {},
          "execution_count": 211
        }
      ],
      "source": [
        "list(df.columns)"
      ]
    },
    {
      "cell_type": "code",
      "execution_count": 212,
      "metadata": {
        "colab": {
          "base_uri": "https://localhost:8080/"
        },
        "id": "YqMWZNkML-R5",
        "outputId": "18e3f97b-121f-4c38-a34f-15c8319c7b70"
      },
      "outputs": [
        {
          "output_type": "execute_result",
          "data": {
            "text/plain": [
              "user_id             int64\n",
              "book                int64\n",
              "ratingScore         int64\n",
              "authors            object\n",
              "title              object\n",
              "language_code      object\n",
              "average_rating    float64\n",
              "ratings_count       int64\n",
              "user                int64\n",
              "dtype: object"
            ]
          },
          "metadata": {},
          "execution_count": 212
        }
      ],
      "source": [
        "df.dtypes"
      ]
    },
    {
      "cell_type": "code",
      "execution_count": 213,
      "metadata": {
        "colab": {
          "base_uri": "https://localhost:8080/",
          "height": 300
        },
        "id": "ZlpTlghFI4-h",
        "outputId": "2c7aab30-874a-4175-8770-361caa74d47a"
      },
      "outputs": [
        {
          "output_type": "execute_result",
          "data": {
            "text/plain": [
              "            user_id          book   ratingScore  average_rating  \\\n",
              "count  85090.000000  85090.000000  85090.000000    85090.000000   \n",
              "mean   25607.842719    382.383559      3.859043        3.940191   \n",
              "std    15126.005504    236.042217      0.986990        0.249151   \n",
              "min        2.000000      0.000000      1.000000        2.800000   \n",
              "25%    12485.250000    158.000000      3.000000        3.780000   \n",
              "50%    24994.000000    372.000000      4.000000        3.950000   \n",
              "75%    38368.000000    587.000000      5.000000        4.110000   \n",
              "max    53424.000000    811.000000      5.000000        4.770000   \n",
              "\n",
              "       ratings_count          user  \n",
              "count   8.509000e+04  85090.000000  \n",
              "mean    1.487836e+05  14114.780150  \n",
              "std     3.548599e+05   8264.477566  \n",
              "min     5.321000e+03      0.000000  \n",
              "25%     1.802400e+04   6912.250000  \n",
              "50%     3.907300e+04  13917.000000  \n",
              "75%     1.171080e+05  21167.000000  \n",
              "max     4.602479e+06  28905.000000  "
            ],
            "text/html": [
              "\n",
              "  <div id=\"df-1e646d8b-54dd-48aa-8ec9-0072171e7dca\">\n",
              "    <div class=\"colab-df-container\">\n",
              "      <div>\n",
              "<style scoped>\n",
              "    .dataframe tbody tr th:only-of-type {\n",
              "        vertical-align: middle;\n",
              "    }\n",
              "\n",
              "    .dataframe tbody tr th {\n",
              "        vertical-align: top;\n",
              "    }\n",
              "\n",
              "    .dataframe thead th {\n",
              "        text-align: right;\n",
              "    }\n",
              "</style>\n",
              "<table border=\"1\" class=\"dataframe\">\n",
              "  <thead>\n",
              "    <tr style=\"text-align: right;\">\n",
              "      <th></th>\n",
              "      <th>user_id</th>\n",
              "      <th>book</th>\n",
              "      <th>ratingScore</th>\n",
              "      <th>average_rating</th>\n",
              "      <th>ratings_count</th>\n",
              "      <th>user</th>\n",
              "    </tr>\n",
              "  </thead>\n",
              "  <tbody>\n",
              "    <tr>\n",
              "      <th>count</th>\n",
              "      <td>85090.000000</td>\n",
              "      <td>85090.000000</td>\n",
              "      <td>85090.000000</td>\n",
              "      <td>85090.000000</td>\n",
              "      <td>8.509000e+04</td>\n",
              "      <td>85090.000000</td>\n",
              "    </tr>\n",
              "    <tr>\n",
              "      <th>mean</th>\n",
              "      <td>25607.842719</td>\n",
              "      <td>382.383559</td>\n",
              "      <td>3.859043</td>\n",
              "      <td>3.940191</td>\n",
              "      <td>1.487836e+05</td>\n",
              "      <td>14114.780150</td>\n",
              "    </tr>\n",
              "    <tr>\n",
              "      <th>std</th>\n",
              "      <td>15126.005504</td>\n",
              "      <td>236.042217</td>\n",
              "      <td>0.986990</td>\n",
              "      <td>0.249151</td>\n",
              "      <td>3.548599e+05</td>\n",
              "      <td>8264.477566</td>\n",
              "    </tr>\n",
              "    <tr>\n",
              "      <th>min</th>\n",
              "      <td>2.000000</td>\n",
              "      <td>0.000000</td>\n",
              "      <td>1.000000</td>\n",
              "      <td>2.800000</td>\n",
              "      <td>5.321000e+03</td>\n",
              "      <td>0.000000</td>\n",
              "    </tr>\n",
              "    <tr>\n",
              "      <th>25%</th>\n",
              "      <td>12485.250000</td>\n",
              "      <td>158.000000</td>\n",
              "      <td>3.000000</td>\n",
              "      <td>3.780000</td>\n",
              "      <td>1.802400e+04</td>\n",
              "      <td>6912.250000</td>\n",
              "    </tr>\n",
              "    <tr>\n",
              "      <th>50%</th>\n",
              "      <td>24994.000000</td>\n",
              "      <td>372.000000</td>\n",
              "      <td>4.000000</td>\n",
              "      <td>3.950000</td>\n",
              "      <td>3.907300e+04</td>\n",
              "      <td>13917.000000</td>\n",
              "    </tr>\n",
              "    <tr>\n",
              "      <th>75%</th>\n",
              "      <td>38368.000000</td>\n",
              "      <td>587.000000</td>\n",
              "      <td>5.000000</td>\n",
              "      <td>4.110000</td>\n",
              "      <td>1.171080e+05</td>\n",
              "      <td>21167.000000</td>\n",
              "    </tr>\n",
              "    <tr>\n",
              "      <th>max</th>\n",
              "      <td>53424.000000</td>\n",
              "      <td>811.000000</td>\n",
              "      <td>5.000000</td>\n",
              "      <td>4.770000</td>\n",
              "      <td>4.602479e+06</td>\n",
              "      <td>28905.000000</td>\n",
              "    </tr>\n",
              "  </tbody>\n",
              "</table>\n",
              "</div>\n",
              "      <button class=\"colab-df-convert\" onclick=\"convertToInteractive('df-1e646d8b-54dd-48aa-8ec9-0072171e7dca')\"\n",
              "              title=\"Convert this dataframe to an interactive table.\"\n",
              "              style=\"display:none;\">\n",
              "        \n",
              "  <svg xmlns=\"http://www.w3.org/2000/svg\" height=\"24px\"viewBox=\"0 0 24 24\"\n",
              "       width=\"24px\">\n",
              "    <path d=\"M0 0h24v24H0V0z\" fill=\"none\"/>\n",
              "    <path d=\"M18.56 5.44l.94 2.06.94-2.06 2.06-.94-2.06-.94-.94-2.06-.94 2.06-2.06.94zm-11 1L8.5 8.5l.94-2.06 2.06-.94-2.06-.94L8.5 2.5l-.94 2.06-2.06.94zm10 10l.94 2.06.94-2.06 2.06-.94-2.06-.94-.94-2.06-.94 2.06-2.06.94z\"/><path d=\"M17.41 7.96l-1.37-1.37c-.4-.4-.92-.59-1.43-.59-.52 0-1.04.2-1.43.59L10.3 9.45l-7.72 7.72c-.78.78-.78 2.05 0 2.83L4 21.41c.39.39.9.59 1.41.59.51 0 1.02-.2 1.41-.59l7.78-7.78 2.81-2.81c.8-.78.8-2.07 0-2.86zM5.41 20L4 18.59l7.72-7.72 1.47 1.35L5.41 20z\"/>\n",
              "  </svg>\n",
              "      </button>\n",
              "      \n",
              "  <style>\n",
              "    .colab-df-container {\n",
              "      display:flex;\n",
              "      flex-wrap:wrap;\n",
              "      gap: 12px;\n",
              "    }\n",
              "\n",
              "    .colab-df-convert {\n",
              "      background-color: #E8F0FE;\n",
              "      border: none;\n",
              "      border-radius: 50%;\n",
              "      cursor: pointer;\n",
              "      display: none;\n",
              "      fill: #1967D2;\n",
              "      height: 32px;\n",
              "      padding: 0 0 0 0;\n",
              "      width: 32px;\n",
              "    }\n",
              "\n",
              "    .colab-df-convert:hover {\n",
              "      background-color: #E2EBFA;\n",
              "      box-shadow: 0px 1px 2px rgba(60, 64, 67, 0.3), 0px 1px 3px 1px rgba(60, 64, 67, 0.15);\n",
              "      fill: #174EA6;\n",
              "    }\n",
              "\n",
              "    [theme=dark] .colab-df-convert {\n",
              "      background-color: #3B4455;\n",
              "      fill: #D2E3FC;\n",
              "    }\n",
              "\n",
              "    [theme=dark] .colab-df-convert:hover {\n",
              "      background-color: #434B5C;\n",
              "      box-shadow: 0px 1px 3px 1px rgba(0, 0, 0, 0.15);\n",
              "      filter: drop-shadow(0px 1px 2px rgba(0, 0, 0, 0.3));\n",
              "      fill: #FFFFFF;\n",
              "    }\n",
              "  </style>\n",
              "\n",
              "      <script>\n",
              "        const buttonEl =\n",
              "          document.querySelector('#df-1e646d8b-54dd-48aa-8ec9-0072171e7dca button.colab-df-convert');\n",
              "        buttonEl.style.display =\n",
              "          google.colab.kernel.accessAllowed ? 'block' : 'none';\n",
              "\n",
              "        async function convertToInteractive(key) {\n",
              "          const element = document.querySelector('#df-1e646d8b-54dd-48aa-8ec9-0072171e7dca');\n",
              "          const dataTable =\n",
              "            await google.colab.kernel.invokeFunction('convertToInteractive',\n",
              "                                                     [key], {});\n",
              "          if (!dataTable) return;\n",
              "\n",
              "          const docLinkHtml = 'Like what you see? Visit the ' +\n",
              "            '<a target=\"_blank\" href=https://colab.research.google.com/notebooks/data_table.ipynb>data table notebook</a>'\n",
              "            + ' to learn more about interactive tables.';\n",
              "          element.innerHTML = '';\n",
              "          dataTable['output_type'] = 'display_data';\n",
              "          await google.colab.output.renderOutput(dataTable, element);\n",
              "          const docLink = document.createElement('div');\n",
              "          docLink.innerHTML = docLinkHtml;\n",
              "          element.appendChild(docLink);\n",
              "        }\n",
              "      </script>\n",
              "    </div>\n",
              "  </div>\n",
              "  "
            ]
          },
          "metadata": {},
          "execution_count": 213
        }
      ],
      "source": [
        "df.describe()"
      ]
    },
    {
      "cell_type": "code",
      "execution_count": 214,
      "metadata": {
        "colab": {
          "base_uri": "https://localhost:8080/",
          "height": 472
        },
        "id": "QzF_GwkEO6Ov",
        "outputId": "1faa06dc-5a95-4f0b-ed7f-fb31cf2ca965"
      },
      "outputs": [
        {
          "output_type": "display_data",
          "data": {
            "text/plain": [
              "<Figure size 640x480 with 1 Axes>"
            ],
            "image/png": "[encoded data removed]"
          },
          "metadata": {}
        }
      ],
      "source": [
        "#Visualizing the 'average_rating' column as a histogram.\n",
        "\n",
        "#Making the histogram more detailed by using more ranges.\n",
        "plt.hist(df['average_rating'], bins=50, color='#008080')\n",
        "\n",
        "#Adding an intensity curve to the histogram to make the distribution clearer.\n",
        "sns.histplot(df['average_rating'], bins=80, kde=True, color='#FFFFFF')\n",
        "\n",
        "plt.ylabel('Count')\n",
        "plt.title('Distribution of Average Ratings')\n",
        "plt.show()"
      ]
    },
    {
      "cell_type": "code",
      "execution_count": 215,
      "metadata": {
        "colab": {
          "base_uri": "https://localhost:8080/",
          "height": 472
        },
        "id": "kQGOPuZPVQNh",
        "outputId": "0e322112-c118-4381-82c5-c74ecfc05346"
      },
      "outputs": [
        {
          "output_type": "display_data",
          "data": {
            "text/plain": [
              "<Figure size 640x480 with 1 Axes>"
            ],
            "image/png": "[encoded data removed]"
          },
          "metadata": {}
        }
      ],
      "source": [
        "#Adding a QQ Plot plot to check if the data fit the normal distribution.\n",
        "\n",
        "import scipy.stats as stats\n",
        "\n",
        "stats.probplot(df['average_rating'], dist='norm', plot=plt)\n",
        "plt.title('Normal Q-Q Plot')\n",
        "plt.show()"
      ]
    },
    {
      "cell_type": "code",
      "execution_count": 216,
      "metadata": {
        "colab": {
          "base_uri": "https://localhost:8080/",
          "height": 472
        },
        "id": "UXOnNJDHO-Uj",
        "outputId": "6ddb4338-a023-41f2-f592-d9d3393be43b"
      },
      "outputs": [
        {
          "output_type": "display_data",
          "data": {
            "text/plain": [
              "<Figure size 640x480 with 1 Axes>"
            ],
            "image/png": "[encoded data removed]"
          },
          "metadata": {}
        }
      ],
      "source": [
        "#Visualizing the distribution of categorical values in the 'language_code' column.\n",
        "\n",
        "sns.countplot(x='language_code', data=df)\n",
        "plt.xlabel('Language Code')\n",
        "plt.ylabel('Count')\n",
        "plt.title('Distribution of Language Codes')\n",
        "plt.show()"
      ]
    },
    {
      "cell_type": "code",
      "execution_count": 217,
      "metadata": {
        "colab": {
          "base_uri": "https://localhost:8080/",
          "height": 465
        },
        "id": "uhXzs-KyLh_N",
        "outputId": "b1e92f5c-393c-4fed-dee4-1c9e78a6cd9a"
      },
      "outputs": [
        {
          "output_type": "display_data",
          "data": {
            "text/plain": [
              "<Figure size 640x480 with 1 Axes>"
            ],
            "image/png": "[encoded data removed]"
          },
          "metadata": {}
        }
      ],
      "source": [
        "#Show the relationship between the 'average_rating' and 'ratings_count' columns in the Books dataset.\n",
        "\n",
        "plt.scatter(books['average_rating'], books['ratings_count'], color='#ff7f00')\n",
        "plt.xlabel('Average Rating')\n",
        "plt.ylabel('Ratings Count')\n",
        "plt.show()"
      ]
    },
    {
      "cell_type": "markdown",
      "metadata": {
        "id": "ZtBO4VT7LlXa"
      },
      "source": [
        "## **Model Building:**"
      ]
    },
    {
      "cell_type": "code",
      "execution_count": 218,
      "metadata": {
        "id": "vR5572y0EcG2"
      },
      "outputs": [],
      "source": [
        "#Splitting the dataset into training and test data.\n",
        "\n",
        "train, test = train_test_split(df, test_size=0.3, random_state=10)"
      ]
    },
    {
      "cell_type": "code",
      "execution_count": 219,
      "metadata": {
        "id": "ZzGjEOiUEfhO"
      },
      "outputs": [],
      "source": [
        "#Using MinMaxScaler to scale data.\n",
        "\n",
        "scaler = MinMaxScaler()\n",
        "train[['user', 'book']] = scaler.fit_transform(train[['user', 'book']])\n",
        "test[['user', 'book']] = scaler.transform(test[['user', 'book']])"
      ]
    },
    {
      "cell_type": "markdown",
      "metadata": {
        "id": "ECXmaQs9ultx"
      },
      "source": [
        "***Creates the input layers for the model. Embedding layers are used to create embed matrices corresponding to user and item IDs.***\n",
        "\n"
      ]
    },
    {
      "cell_type": "code",
      "execution_count": 220,
      "metadata": {
        "id": "pUxrfEzfeENu"
      },
      "outputs": [],
      "source": [
        "#The size of the embedding layer.\n",
        "\n",
        "embedding_dim = 32"
      ]
    },
    {
      "cell_type": "code",
      "execution_count": 221,
      "metadata": {
        "id": "FFQRTl1teJvG"
      },
      "outputs": [],
      "source": [
        "#Creating 'user' and 'book' inputs.\n",
        "\n",
        "user_input = Input(shape=(1,))\n",
        "book_input = Input(shape=(1,))"
      ]
    },
    {
      "cell_type": "code",
      "execution_count": 222,
      "metadata": {
        "id": "wxZws3xueLIh"
      },
      "outputs": [],
      "source": [
        "#Creating 'user' and 'book' embedding layers.\n",
        "\n",
        "userEmbedding = Embedding(input_dim=len(userMapping), output_dim=embedding_dim, input_length=1)(user_input)\n",
        "bookEmbedding = Embedding(input_dim=len(df['book'].unique()), output_dim=embedding_dim, input_length=1)(book_input)"
      ]
    },
    {
      "cell_type": "code",
      "execution_count": 223,
      "metadata": {
        "id": "8wK30omWB2i0"
      },
      "outputs": [],
      "source": [
        "#BatchNormalization.\n",
        "\n",
        "userEmbedding = BatchNormalization()(userEmbedding)\n",
        "bookEmbedding = BatchNormalization()(bookEmbedding)"
      ]
    },
    {
      "cell_type": "code",
      "execution_count": 224,
      "metadata": {
        "id": "4V7Q3BsIeMNQ"
      },
      "outputs": [],
      "source": [
        "#Flatten embedding layers.\n",
        "\n",
        "userFlattened = Flatten()(userEmbedding)\n",
        "bookFlattened = Flatten()(bookEmbedding)"
      ]
    },
    {
      "cell_type": "code",
      "execution_count": 225,
      "metadata": {
        "id": "Oco8P_abeO2A"
      },
      "outputs": [],
      "source": [
        "#Merge 'user' and 'book' embedding layers.\n",
        "\n",
        "mergedLayers = Concatenate()([userFlattened, bookFlattened])"
      ]
    },
    {
      "cell_type": "code",
      "execution_count": 226,
      "metadata": {
        "id": "uyoOsqe4jE3G"
      },
      "outputs": [],
      "source": [
        "#Creating attributes of 'user' and 'book' inputs and specifying target outputs. \n",
        "#A one-dimensional input is used and the properties of the inputs are created with Embedding. \n",
        "#Finally, normalization is done with BatchNormalization.\n",
        "\n",
        "user_input = Input(shape=(1,))\n",
        "user_emb = Flatten()(Embedding(n_users, 50)(user_input))\n",
        "user_emb = BatchNormalization()(user_emb)\n",
        "\n",
        "book_input = Input(shape=(1,))\n",
        "book_emb = Flatten()(Embedding(n_books, 50)(book_input))\n",
        "book_emb = BatchNormalization()(book_emb)"
      ]
    },
    {
      "cell_type": "code",
      "execution_count": 227,
      "metadata": {
        "id": "s-V1NMpWRSqE"
      },
      "outputs": [],
      "source": [
        "#MLP model.\n",
        "\n",
        "mlp_concat = Concatenate()([user_emb, book_emb])\n",
        "mlp_dropout_1 = tf.keras.layers.Dropout(0.5)(mlp_concat)\n",
        "mlp_layer_1 = Dense(64, activation='relu')(mlp_dropout_1)\n",
        "mlp_layer_1 = BatchNormalization()(mlp_layer_1)\n",
        "mlp_dropout_2 = tf.keras.layers.Dropout(0.5)(mlp_layer_1)\n",
        "mlp_layer_2 = Dense(32, activation='relu')(mlp_dropout_2)\n",
        "mlp_layer_2 = BatchNormalization()(mlp_layer_2)\n",
        "mlp_dropout_3 = tf.keras.layers.Dropout(0.5)(mlp_layer_2)\n",
        "mlp_layer_3 = Dense(16, activation='relu')(mlp_dropout_3)\n",
        "mlp_layer_3 = BatchNormalization()(mlp_layer_3)\n",
        "mlp_dropout_4 = tf.keras.layers.Dropout(0.5)(mlp_layer_3)\n",
        "mlp_layer_4 = Dense(8, activation='relu')(mlp_dropout_4)\n",
        "mlp_layer_4 = BatchNormalization()(mlp_layer_4)"
      ]
    },
    {
      "cell_type": "code",
      "execution_count": 228,
      "metadata": {
        "id": "aRRkbirki6V8"
      },
      "outputs": [],
      "source": [
        "#FM model.\n",
        "\n",
        "fm_concat = Concatenate()([user_emb, book_emb])\n",
        "fm_layer = tf.keras.layers.Dot(axes=1)([user_emb, book_emb])\n",
        "fm_layer = BatchNormalization()(fm_layer)"
      ]
    },
    {
      "cell_type": "code",
      "execution_count": 229,
      "metadata": {
        "id": "JqDReOV9i0B4"
      },
      "outputs": [],
      "source": [
        "#FINT model.\n",
        "\n",
        "fint_concat = Concatenate()([user_emb, book_emb])\n",
        "fint_layer_1 = Dense(64, activation='relu')(fint_concat)\n",
        "fint_layer_1 = BatchNormalization()(fint_layer_1)\n",
        "fint_dropout_1 = tf.keras.layers.Dropout(0.5)(fint_layer_1)\n",
        "fint_layer_2 = Dense(32, activation='relu')(fint_dropout_1)\n",
        "fint_layer_2 = BatchNormalization()(fint_layer_2)\n",
        "fint_dropout_2 = tf.keras.layers.Dropout(0.5)(fint_layer_2)\n",
        "fint_layer_3 = Dense(16, activation='relu')(fint_dropout_2)\n",
        "fint_layer_3 = BatchNormalization()(fint_layer_3)\n",
        "fint_dropout_3 = tf.keras.layers.Dropout(0.5)(fint_layer_3)\n",
        "fint_layer_4 = Dense(8, activation='relu')(fint_dropout_3)\n",
        "fint_layer_4 = BatchNormalization()(fint_layer_4)"
      ]
    },
    {
      "cell_type": "code",
      "execution_count": 230,
      "metadata": {
        "id": "-vddpdOjefB5"
      },
      "outputs": [],
      "source": [
        "#Building a combined model.\n",
        "\n",
        "concat_all = Concatenate()([mlp_layer_4, fm_layer, fint_layer_4])\n",
        "final_layer_1 = Dense(8, activation='relu')(concat_all)\n",
        "final_layer_2 = Dense(4, activation='relu')(final_layer_1)\n",
        "output_layer = Dense(1, activation='relu')(final_layer_2)"
      ]
    },
    {
      "cell_type": "markdown",
      "metadata": {
        "id": "RVRGR-pOutnf"
      },
      "source": [
        "***The model is compiled using the 'Adam optimizer' and the 'mse' loss function.***\n"
      ]
    },
    {
      "cell_type": "code",
      "execution_count": 231,
      "metadata": {
        "id": "dce0BXyRejVb"
      },
      "outputs": [],
      "source": [
        "#Compilation of the model.\n",
        "\n",
        "model = Model(inputs=[user_input, book_input], outputs=output_layer)\n",
        "model.compile(loss='mse', optimizer=Adam(learning_rate=0.001))"
      ]
    },
    {
      "cell_type": "code",
      "execution_count": 232,
      "metadata": {
        "colab": {
          "base_uri": "https://localhost:8080/"
        },
        "id": "yG8Cy9Tfeiox",
        "outputId": "a8839ac7-ade6-46b6-91b1-e5a99d6eb41c"
      },
      "outputs": [
        {
          "output_type": "stream",
          "name": "stdout",
          "text": [
            "Model: \"model_5\"\n",
            "__________________________________________________________________________________________________\n",
            " Layer (type)                   Output Shape         Param #     Connected to                     \n",
            "==================================================================================================\n",
            " input_23 (InputLayer)          [(None, 1)]          0           []                               \n",
            "                                                                                                  \n",
            " input_24 (InputLayer)          [(None, 1)]          0           []                               \n",
            "                                                                                                  \n",
            " embedding_22 (Embedding)       (None, 1, 50)        1445300     ['input_23[0][0]']               \n",
            "                                                                                                  \n",
            " embedding_23 (Embedding)       (None, 1, 50)        40600       ['input_24[0][0]']               \n",
            "                                                                                                  \n",
            " flatten_22 (Flatten)           (None, 50)           0           ['embedding_22[0][0]']           \n",
            "                                                                                                  \n",
            " flatten_23 (Flatten)           (None, 50)           0           ['embedding_23[0][0]']           \n",
            "                                                                                                  \n",
            " batch_normalization_67 (BatchN  (None, 50)          200         ['flatten_22[0][0]']             \n",
            " ormalization)                                                                                    \n",
            "                                                                                                  \n",
            " batch_normalization_68 (BatchN  (None, 50)          200         ['flatten_23[0][0]']             \n",
            " ormalization)                                                                                    \n",
            "                                                                                                  \n",
            " concatenate_26 (Concatenate)   (None, 100)          0           ['batch_normalization_67[0][0]', \n",
            "                                                                  'batch_normalization_68[0][0]'] \n",
            "                                                                                                  \n",
            " dropout_35 (Dropout)           (None, 100)          0           ['concatenate_26[0][0]']         \n",
            "                                                                                                  \n",
            " concatenate_28 (Concatenate)   (None, 100)          0           ['batch_normalization_67[0][0]', \n",
            "                                                                  'batch_normalization_68[0][0]'] \n",
            "                                                                                                  \n",
            " dense_55 (Dense)               (None, 64)           6464        ['dropout_35[0][0]']             \n",
            "                                                                                                  \n",
            " dense_59 (Dense)               (None, 64)           6464        ['concatenate_28[0][0]']         \n",
            "                                                                                                  \n",
            " batch_normalization_69 (BatchN  (None, 64)          256         ['dense_55[0][0]']               \n",
            " ormalization)                                                                                    \n",
            "                                                                                                  \n",
            " batch_normalization_74 (BatchN  (None, 64)          256         ['dense_59[0][0]']               \n",
            " ormalization)                                                                                    \n",
            "                                                                                                  \n",
            " dropout_36 (Dropout)           (None, 64)           0           ['batch_normalization_69[0][0]'] \n",
            "                                                                                                  \n",
            " dropout_39 (Dropout)           (None, 64)           0           ['batch_normalization_74[0][0]'] \n",
            "                                                                                                  \n",
            " dense_56 (Dense)               (None, 32)           2080        ['dropout_36[0][0]']             \n",
            "                                                                                                  \n",
            " dense_60 (Dense)               (None, 32)           2080        ['dropout_39[0][0]']             \n",
            "                                                                                                  \n",
            " batch_normalization_70 (BatchN  (None, 32)          128         ['dense_56[0][0]']               \n",
            " ormalization)                                                                                    \n",
            "                                                                                                  \n",
            " batch_normalization_75 (BatchN  (None, 32)          128         ['dense_60[0][0]']               \n",
            " ormalization)                                                                                    \n",
            "                                                                                                  \n",
            " dropout_37 (Dropout)           (None, 32)           0           ['batch_normalization_70[0][0]'] \n",
            "                                                                                                  \n",
            " dropout_40 (Dropout)           (None, 32)           0           ['batch_normalization_75[0][0]'] \n",
            "                                                                                                  \n",
            " dense_57 (Dense)               (None, 16)           528         ['dropout_37[0][0]']             \n",
            "                                                                                                  \n",
            " dense_61 (Dense)               (None, 16)           528         ['dropout_40[0][0]']             \n",
            "                                                                                                  \n",
            " batch_normalization_71 (BatchN  (None, 16)          64          ['dense_57[0][0]']               \n",
            " ormalization)                                                                                    \n",
            "                                                                                                  \n",
            " batch_normalization_76 (BatchN  (None, 16)          64          ['dense_61[0][0]']               \n",
            " ormalization)                                                                                    \n",
            "                                                                                                  \n",
            " dropout_38 (Dropout)           (None, 16)           0           ['batch_normalization_71[0][0]'] \n",
            "                                                                                                  \n",
            " dropout_41 (Dropout)           (None, 16)           0           ['batch_normalization_76[0][0]'] \n",
            "                                                                                                  \n",
            " dense_58 (Dense)               (None, 8)            136         ['dropout_38[0][0]']             \n",
            "                                                                                                  \n",
            " dot_5 (Dot)                    (None, 1)            0           ['batch_normalization_67[0][0]', \n",
            "                                                                  'batch_normalization_68[0][0]'] \n",
            "                                                                                                  \n",
            " dense_62 (Dense)               (None, 8)            136         ['dropout_41[0][0]']             \n",
            "                                                                                                  \n",
            " batch_normalization_72 (BatchN  (None, 8)           32          ['dense_58[0][0]']               \n",
            " ormalization)                                                                                    \n",
            "                                                                                                  \n",
            " batch_normalization_73 (BatchN  (None, 1)           4           ['dot_5[0][0]']                  \n",
            " ormalization)                                                                                    \n",
            "                                                                                                  \n",
            " batch_normalization_77 (BatchN  (None, 8)           32          ['dense_62[0][0]']               \n",
            " ormalization)                                                                                    \n",
            "                                                                                                  \n",
            " concatenate_29 (Concatenate)   (None, 17)           0           ['batch_normalization_72[0][0]', \n",
            "                                                                  'batch_normalization_73[0][0]', \n",
            "                                                                  'batch_normalization_77[0][0]'] \n",
            "                                                                                                  \n",
            " dense_63 (Dense)               (None, 8)            144         ['concatenate_29[0][0]']         \n",
            "                                                                                                  \n",
            " dense_64 (Dense)               (None, 4)            36          ['dense_63[0][0]']               \n",
            "                                                                                                  \n",
            " dense_65 (Dense)               (None, 1)            5           ['dense_64[0][0]']               \n",
            "                                                                                                  \n",
            "==================================================================================================\n",
            "Total params: 1,505,865\n",
            "Trainable params: 1,505,183\n",
            "Non-trainable params: 682\n",
            "__________________________________________________________________________________________________\n",
            "None\n"
          ]
        }
      ],
      "source": [
        "#Print the model summary.\n",
        "\n",
        "print(model.summary())"
      ]
    },
    {
      "cell_type": "markdown",
      "metadata": {
        "id": "EIchGwQ4vItQ"
      },
      "source": [
        "***The model is trained, model predictions are made, and results are calculated. Using the RMSE metric, the performance of the model is measured and printed on the screen.***"
      ]
    },
    {
      "cell_type": "code",
      "execution_count": 233,
      "metadata": {
        "colab": {
          "base_uri": "https://localhost:8080/"
        },
        "id": "ga0DdFa4er-K",
        "outputId": "db42898b-f6b0-464d-ba5b-b35ed05697f4"
      },
      "outputs": [
        {
          "output_type": "stream",
          "name": "stdout",
          "text": [
            "Epoch 1/10\n",
            "931/931 [==============================] - 17s 15ms/step - loss: 2.8126 - val_loss: 124.0215\n",
            "Epoch 2/10\n",
            "931/931 [==============================] - 13s 14ms/step - loss: 1.0598 - val_loss: 1.0512\n",
            "Epoch 3/10\n",
            "931/931 [==============================] - 13s 14ms/step - loss: 1.0046 - val_loss: 2.1343\n",
            "Epoch 4/10\n",
            "931/931 [==============================] - 13s 14ms/step - loss: 0.9928 - val_loss: 5.8852\n",
            "Epoch 5/10\n",
            "931/931 [==============================] - 13s 14ms/step - loss: 0.9863 - val_loss: 2.4931\n"
          ]
        },
        {
          "output_type": "execute_result",
          "data": {
            "text/plain": [
              "<keras.callbacks.History at 0x7fd9f95910a0>"
            ]
          },
          "metadata": {},
          "execution_count": 233
        }
      ],
      "source": [
        "#Training the model.\n",
        "\n",
        "early_stopping = EarlyStopping(patience=3, monitor='val_loss', mode='min')\n",
        "\n",
        "model.fit(x=[train['user'], train['book']], y=train['ratingScore'], batch_size=64, epochs=10, validation_data=([test['user'], test['book']], test['ratingScore']), callbacks=[early_stopping])"
      ]
    },
    {
      "cell_type": "markdown",
      "metadata": {
        "id": "73vmcdcpSXBd"
      },
      "source": [
        "## **Test and Model Performance:**"
      ]
    },
    {
      "cell_type": "code",
      "execution_count": 234,
      "metadata": {
        "id": "-gCCjPzAEtt-",
        "colab": {
          "base_uri": "https://localhost:8080/"
        },
        "outputId": "407b1f31-efa0-455c-c92e-91f4a89e86f6"
      },
      "outputs": [
        {
          "output_type": "stream",
          "name": "stdout",
          "text": [
            "798/798 [==============================] - 1s 1ms/step\n",
            "RMSE: 1.537379799357109\n"
          ]
        }
      ],
      "source": [
        "testPredictions = model.predict([test['user'], test['book']])\n",
        "testPredictions = np.round(testPredictions)\n",
        "\n",
        "testRMSE = np.sqrt(mean_squared_error(test['ratingScore'], testPredictions))\n",
        "\n",
        "print('RMSE:', testRMSE)"
      ]
    }
  ],
  "metadata": {
    "colab": {
      "provenance": [],
      "include_colab_link": true
    },
    "kernelspec": {
      "display_name": "Python 3",
      "name": "python3"
    },
    "language_info": {
      "name": "python"
    }
  },
  "nbformat": 4,
  "nbformat_minor": 0
}